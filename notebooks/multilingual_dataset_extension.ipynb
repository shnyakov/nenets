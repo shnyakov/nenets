{
 "nbformat": 4,
 "nbformat_minor": 0,
 "metadata": {
  "colab": {
   "provenance": [],
   "toc_visible": true,
   "authorship_tag": "ABX9TyNR4X0ObtNE+MhegLTApncr"
  },
  "kernelspec": {
   "name": "python3",
   "display_name": "Python 3"
  },
  "language_info": {
   "name": "python"
  }
 },
 "cells": [
  {
   "cell_type": "code",
   "execution_count": null,
   "metadata": {
    "id": "0wwBnbvLcoxf"
   },
   "outputs": [],
   "source": "import pandas as pd"
  },
  {
   "cell_type": "code",
   "execution_count": null,
   "metadata": {
    "id": "y3xda1hvr4v_"
   },
   "outputs": [],
   "source": "df = pd.read_csv('file.csv', sep=',')"
  },
  {
   "cell_type": "code",
   "source": [
    "!pip install mtranslate"
   ],
   "metadata": {
    "colab": {
     "base_uri": "https://localhost:8080/"
    },
    "id": "aDBiCRPopLsE",
    "executionInfo": {
     "status": "ok",
     "timestamp": 1705078635141,
     "user_tz": -180,
     "elapsed": 16234,
     "user": {
      "displayName": "Paul",
      "userId": "01908594270220521331"
     }
    },
    "outputId": "99ac61a8-74e5-4262-f11c-a9b8457f97a7"
   },
   "execution_count": null,
   "outputs": [
    {
     "output_type": "stream",
     "name": "stdout",
     "text": [
      "Collecting mtranslate\n",
      "  Downloading mtranslate-1.8.tar.gz (2.4 kB)\n",
      "  Preparing metadata (setup.py) ... \u001B[?25l\u001B[?25hdone\n",
      "Building wheels for collected packages: mtranslate\n",
      "  Building wheel for mtranslate (setup.py) ... \u001B[?25l\u001B[?25hdone\n",
      "  Created wheel for mtranslate: filename=mtranslate-1.8-py3-none-any.whl size=3672 sha256=323d2c79f1650ea4e3cc54c1e0b5f6f87af0d0784e6a5eb58bae3c70419acaa5\n",
      "  Stored in directory: /root/.cache/pip/wheels/c2/04/15/d7654c2c4a9a52e09922967593f3278fed66059be65ca671ea\n",
      "Successfully built mtranslate\n",
      "Installing collected packages: mtranslate\n",
      "Successfully installed mtranslate-1.8\n"
     ]
    }
   ]
  },
  {
   "cell_type": "code",
   "source": [
    "from mtranslate import translate"
   ],
   "metadata": {
    "id": "0QO367Juq8cx"
   },
   "execution_count": null,
   "outputs": []
  },
  {
   "cell_type": "code",
   "source": [
    "df['en'] = df['ru'].apply(lambda x: translate(str(x), 'en') if x is not None else None)\n",
    "df['fr'] = df['ru'].apply(lambda x: translate(str(x), 'fr') if x is not None else None)\n",
    "df['fi'] = df['ru'].apply(lambda x: translate(str(x), 'fi') if x is not None else None)\n",
    "df['hu'] = df['ru'].apply(lambda x: translate(str(x), 'hu') if x is not None else None)"
   ],
   "metadata": {
    "id": "_vookX9HdHEd"
   },
   "execution_count": null,
   "outputs": []
  },
  {
   "cell_type": "code",
   "source": [
    "df.style"
   ],
   "metadata": {
    "executionInfo": {
     "status": "ok",
     "timestamp": 1705078951595,
     "user_tz": -180,
     "elapsed": 2156,
     "user": {
      "displayName": "Paul",
      "userId": "01908594270220521331"
     }
    },
    "colab": {
     "base_uri": "https://localhost:8080/",
     "height": 1000,
     "output_embedded_package_id": "1q9LYAJCKk7wLZWb21N9MS0kjuh7cQkJ-"
    },
    "outputId": "92852441-b4fd-4fb6-9b36-b085a9dbe1b7",
    "id": "PlJkHA-YopUU"
   },
   "execution_count": null,
   "outputs": [
    {
     "output_type": "display_data",
     "data": {
      "text/plain": "Output hidden; open in https://colab.research.google.com to view."
     },
     "metadata": {}
    }
   ]
  },
  {
   "cell_type": "code",
   "source": [
    "df.to_csv('corpus.csv', index=False)"
   ],
   "metadata": {
    "id": "Y4SUP3RMrBfv"
   },
   "execution_count": null,
   "outputs": []
  }
 ]
}
